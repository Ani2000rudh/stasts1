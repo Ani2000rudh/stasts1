{
 "cells": [
  {
   "cell_type": "code",
   "execution_count": 1,
   "id": "001c9652-8787-4cbd-8684-ac72c8408980",
   "metadata": {},
   "outputs": [
    {
     "data": {
      "text/plain": [
       "' stsastics is the branch of science that deals with collection of data,processing of data, \\nanalyzing the data and predecting or forecating the fututre results based on data'"
      ]
     },
     "execution_count": 1,
     "metadata": {},
     "output_type": "execute_result"
    }
   ],
   "source": [
    "#Q1. What is Statistics?\n",
    "\n",
    "''' stsastics is the branch of science that deals with collection of data,processing of data, \n",
    "analyzing the data and predecting or forecating the fututre results based on data'''"
   ]
  },
  {
   "cell_type": "code",
   "execution_count": 2,
   "id": "b1bf6331-f9cd-4d3c-a431-e840573c9cf2",
   "metadata": {},
   "outputs": [
    {
     "data": {
      "text/plain": [
       "'stastics is mainly classified into  2 types DESCRIPTIVE and INFERNTIAL\\nDESCRIPTIVE stastics usally dals with \\ndata processing like finding averge , other central tendencies etc \\nINFERENTIAL stastics deals with using the analyzing the data to conclude some thing'"
      ]
     },
     "execution_count": 2,
     "metadata": {},
     "output_type": "execute_result"
    }
   ],
   "source": [
    "#Q2. Define the different types of statistics and give an example of when each type might be used.\n",
    "\n",
    "\n",
    "'''stastics is mainly classified into  2 types DESCRIPTIVE and INFERNTIAL\n",
    "DESCRIPTIVE stastics usally dals with \n",
    "data processing like finding averge , other central tendencies etc \n",
    "example: collecting the weight of students in some class and finding average\n",
    "INFERENTIAL stastics deals with using the analyzing the data to conclude some thing\n",
    "example: from the averge weight we can conclude the weight(avg) of other class students of same institution'''"
   ]
  },
  {
   "cell_type": "code",
   "execution_count": 4,
   "id": "96c301dc-fd78-4dbf-b76d-75f14108ce5f",
   "metadata": {},
   "outputs": [
    {
     "data": {
      "text/plain": [
       "'\\n                   data\\n                     |\\n               |------------------|\\n             Qualitative       quantitative(are numbers and mathmetical operations can be performed,eg weight of students)\\n      (catagorical type eg:gender,pass/fail etc)    \\n               |                  |\\n            |_________|       |_____________|\\n     nominal        ordinal   descrete      continous(float type eg weight heights)\\n( rank not matters) (rank matters) (whole no)\\n'"
      ]
     },
     "execution_count": 4,
     "metadata": {},
     "output_type": "execute_result"
    }
   ],
   "source": [
    "#Q3. What are the different types of data and how do they differ from each other? Provide an example ofeach type of data.\n",
    "'''\n",
    "                   data\n",
    "                     |\n",
    "               |------------------|\n",
    "             Qualitative       quantitative(are numbers and mathmetical operations can be performed,eg weight of students)\n",
    "      (catagorical type eg:gender,pass/fail etc)    \n",
    "               |                  |\n",
    "            |_________|       |_____________|\n",
    "     nominal        ordinal   descrete      continous(float type eg weight heights)\n",
    "( rank not matters) (rank matters) (whole no)\n",
    "'''"
   ]
  },
  {
   "cell_type": "code",
   "execution_count": null,
   "id": "fccff608-cfc8-4e14-9fa8-760f41f48317",
   "metadata": {},
   "outputs": [],
   "source": [
    "'''Q4. Categorise the following datasets with respect to quantitative and qualitative data types:\n",
    "(i) Grading in exam: A+, A, B+, B, C+, C, D, E\n",
    "(ii) Colour of mangoes: yellow, green, orange, red\n",
    "(iii) Height data of a class: [178.9, 179, 179.5, 176, 177.2, 178.3, 175.8,...]\n",
    "(iv) Number of mangoes exported by a farm: [500, 600, 478, 672, ...]'''\n",
    "\n",
    "'''\n",
    "i.qualitative(ordinal)\n",
    "ii.qualitative(nominal)\n",
    "iii.quantitative(continous)\n",
    "iv.quantitative(descriptive)'''"
   ]
  },
  {
   "cell_type": "code",
   "execution_count": null,
   "id": "807b18f0-d8bc-4f5b-a961-cbe6f99a34fe",
   "metadata": {},
   "outputs": [],
   "source": [
    "#Q5. Explain the concept of levels of measurement and give an example of a variable for each level.\n",
    "\n",
    "'''Levels of measurement refer to the different ways in which data can be measured or categorized. There are four commonly recognized levels of measurement: \n",
    "    nominal, ordinal, interval, and ratio\n",
    "Nominal level of measurement: This is the lowest level of measurement, where data is simply labeled or categorized into distinct groups without any order or ranking. \n",
    "Examples of nominal variables include gender, race, and marital status  \n",
    "\n",
    "Ordinal level of measurement: This level of measurement involves data that can be ordered or ranked, but the differences between values are not meaningful or uniform.\n",
    "Examples of ordinal variables include education level,\n",
    "\n",
    "Interval level of measurement: This level of measurement involves data that can be ordered or ranked, and the differences between values are meaningful and uniform, but there is no true zero point. \n",
    "Examples of interval variables include temperature and time.\n",
    "\n",
    "Ratio level of measurement: This is the highest level of measurement, where data can be ordered or ranked, the differences between values are meaningful and uniform, and there is a true zero point.\n",
    "Examples of ratio variables include height, weight, and income.'''"
   ]
  },
  {
   "cell_type": "code",
   "execution_count": null,
   "id": "a5238067-f172-4a4f-9a28-fc85c9609219",
   "metadata": {},
   "outputs": [],
   "source": [
    "#Q6. Why is it important to understand the level of measurement when analyzing data? Provide anexample to illustrate your answer.\n",
    "\n",
    "''' understanding the level of measurement is crucial in choosing appropriate statistical methods,\n",
    "selecting the correct visualizations, and drawing valid conclusions from the data. \n",
    "Ignoring the level of measurement or using the wrong statistical techniques can lead\n",
    "to inaccurate or misleading results.\n",
    "\n",
    "For example, if a variable is measured on a nominal scale, such as \"gender\" or \"ethnicity,\" it cannot be \n",
    "meaningfully ranked or ordered, and arithmetic operations such as addition or \n",
    "multiplication are not meaningful. Therefore, it would be inappropriate to calculate\n",
    "means, standard deviations, or correlations with nominal variables. Instead, frequency tables and bar charts are more\n",
    "appropriate to display and summarize nominal data.'''"
   ]
  },
  {
   "cell_type": "code",
   "execution_count": null,
   "id": "58b81353-4203-463f-a94d-9035c8a22a56",
   "metadata": {},
   "outputs": [],
   "source": [
    "#Q7. How nominal data type is different from ordinal data type.\n",
    "\n",
    "''' in nominal data type ranking does not matter atall eg blood group, martial status\n",
    "in ordinal data type ranking is also present eg: rating the food,book etc with stars'''"
   ]
  },
  {
   "cell_type": "code",
   "execution_count": null,
   "id": "6aee066b-2791-4154-a0f9-baf6280ee0ec",
   "metadata": {},
   "outputs": [],
   "source": [
    "#Q8. Which type of plot can be used to display data in terms of range?\n",
    "\n",
    "# BOX plot"
   ]
  },
  {
   "cell_type": "code",
   "execution_count": null,
   "id": "2b9c6285-955d-41da-8f04-9ac3e2da1e57",
   "metadata": {},
   "outputs": [],
   "source": [
    "#Q9. Describe the difference between descriptive and inferential statistics. Give an example of eachtype of statistics and explain how they are used.\n",
    "'''stastics is mainly classified into  2 types DESCRIPTIVE and INFERNTIAL\n",
    "DESCRIPTIVE stastics usally dals with \n",
    "data processing like finding averge , other central tendencies etc \n",
    "example: collecting the weight of students in some class and finding average\n",
    "INFERENTIAL stastics deals with using the analyzing the data to conclude some thing\n",
    "example: from the averge weight we can conclude the weight(avg) of other class students of same institution\n",
    "first one is used  to analyze the data whereas second type is used to take decission based on this analysis\n",
    "'''"
   ]
  },
  {
   "cell_type": "code",
   "execution_count": null,
   "id": "d34ceea3-f8b5-4938-aff7-377f40d6525f",
   "metadata": {},
   "outputs": [],
   "source": [
    "#Q10. What are some common measures of central tendency and variability used in statistics? Explainhow each measure can be used to describe a dataset.\n",
    "\n",
    "\n",
    "''' for measuring central tendncy\n",
    "1 mean \n",
    "2 mode\n",
    "3 median\n",
    "\n",
    "for variabality\n",
    "1 standarad deviarion\n",
    "2 varience\n",
    "\n",
    "Overall, measures of central tendency and variability are useful for summarizing and describing a dataset. They can be used to understand the distribution of data, identify outliers, and compare different groups or samples. The choice of which measure to use depends on the nature of the data and the research question of interest'''"
   ]
  }
 ],
 "metadata": {
  "kernelspec": {
   "display_name": "Python 3 (ipykernel)",
   "language": "python",
   "name": "python3"
  },
  "language_info": {
   "codemirror_mode": {
    "name": "ipython",
    "version": 3
   },
   "file_extension": ".py",
   "mimetype": "text/x-python",
   "name": "python",
   "nbconvert_exporter": "python",
   "pygments_lexer": "ipython3",
   "version": "3.10.8"
  }
 },
 "nbformat": 4,
 "nbformat_minor": 5
}
